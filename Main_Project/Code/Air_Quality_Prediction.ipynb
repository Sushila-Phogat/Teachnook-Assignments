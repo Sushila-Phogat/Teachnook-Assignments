{
  "nbformat": 4,
  "nbformat_minor": 0,
  "metadata": {
    "colab": {
      "provenance": [],
      "mount_file_id": "1YUwQROeuEDbYhqIp7rLQIr_lBitM0-JV",
      "authorship_tag": "ABX9TyNH/l6ApZjNEk1uHsVcVq17",
      "include_colab_link": true
    },
    "kernelspec": {
      "name": "python3",
      "display_name": "Python 3"
    },
    "language_info": {
      "name": "python"
    }
  },
  "cells": [
    {
      "cell_type": "markdown",
      "metadata": {
        "id": "view-in-github",
        "colab_type": "text"
      },
      "source": [
        "<a href=\"https://colab.research.google.com/github/Sushila-Phogat/Teachnook-Assignments/blob/main/Main_Project/Code/Air_Quality_Prediction.ipynb\" target=\"_parent\"><img src=\"https://colab.research.google.com/assets/colab-badge.svg\" alt=\"Open In Colab\"/></a>"
      ]
    },
    {
      "cell_type": "code",
      "execution_count": 11,
      "metadata": {
        "id": "hgZvdYZkIf-s",
        "colab": {
          "base_uri": "https://localhost:8080/",
          "height": 424
        },
        "outputId": "303e64c2-1614-4884-c3a1-58267a304871"
      },
      "outputs": [
        {
          "output_type": "execute_result",
          "data": {
            "text/plain": [
              "          No  DEWP  TEMP    PRES cbwd     Iws  Is  Ir  AQI\n",
              "0          1   -16  -4.0  1020.0   SE    1.79   0   0  129\n",
              "1          2   -15  -4.0  1020.0   SE    2.68   0   0  148\n",
              "2          3   -11  -5.0  1021.0   SE    3.57   0   0  159\n",
              "3          4    -7  -5.0  1022.0   SE    5.36   1   0  181\n",
              "4          5    -7  -5.0  1022.0   SE    6.25   2   0  138\n",
              "...      ...   ...   ...     ...  ...     ...  ..  ..  ...\n",
              "41752  41753   -23  -2.0  1034.0   NW  231.97   0   0    8\n",
              "41753  41754   -22  -3.0  1034.0   NW  237.78   0   0   10\n",
              "41754  41755   -22  -3.0  1034.0   NW  242.70   0   0   10\n",
              "41755  41756   -22  -4.0  1034.0   NW  246.72   0   0    8\n",
              "41756  41757   -21  -3.0  1034.0   NW  249.85   0   0   12\n",
              "\n",
              "[41757 rows x 9 columns]"
            ],
            "text/html": [
              "\n",
              "  <div id=\"df-ec33f6ef-97ec-4670-a398-adec15317d01\">\n",
              "    <div class=\"colab-df-container\">\n",
              "      <div>\n",
              "<style scoped>\n",
              "    .dataframe tbody tr th:only-of-type {\n",
              "        vertical-align: middle;\n",
              "    }\n",
              "\n",
              "    .dataframe tbody tr th {\n",
              "        vertical-align: top;\n",
              "    }\n",
              "\n",
              "    .dataframe thead th {\n",
              "        text-align: right;\n",
              "    }\n",
              "</style>\n",
              "<table border=\"1\" class=\"dataframe\">\n",
              "  <thead>\n",
              "    <tr style=\"text-align: right;\">\n",
              "      <th></th>\n",
              "      <th>No</th>\n",
              "      <th>DEWP</th>\n",
              "      <th>TEMP</th>\n",
              "      <th>PRES</th>\n",
              "      <th>cbwd</th>\n",
              "      <th>Iws</th>\n",
              "      <th>Is</th>\n",
              "      <th>Ir</th>\n",
              "      <th>AQI</th>\n",
              "    </tr>\n",
              "  </thead>\n",
              "  <tbody>\n",
              "    <tr>\n",
              "      <th>0</th>\n",
              "      <td>1</td>\n",
              "      <td>-16</td>\n",
              "      <td>-4.0</td>\n",
              "      <td>1020.0</td>\n",
              "      <td>SE</td>\n",
              "      <td>1.79</td>\n",
              "      <td>0</td>\n",
              "      <td>0</td>\n",
              "      <td>129</td>\n",
              "    </tr>\n",
              "    <tr>\n",
              "      <th>1</th>\n",
              "      <td>2</td>\n",
              "      <td>-15</td>\n",
              "      <td>-4.0</td>\n",
              "      <td>1020.0</td>\n",
              "      <td>SE</td>\n",
              "      <td>2.68</td>\n",
              "      <td>0</td>\n",
              "      <td>0</td>\n",
              "      <td>148</td>\n",
              "    </tr>\n",
              "    <tr>\n",
              "      <th>2</th>\n",
              "      <td>3</td>\n",
              "      <td>-11</td>\n",
              "      <td>-5.0</td>\n",
              "      <td>1021.0</td>\n",
              "      <td>SE</td>\n",
              "      <td>3.57</td>\n",
              "      <td>0</td>\n",
              "      <td>0</td>\n",
              "      <td>159</td>\n",
              "    </tr>\n",
              "    <tr>\n",
              "      <th>3</th>\n",
              "      <td>4</td>\n",
              "      <td>-7</td>\n",
              "      <td>-5.0</td>\n",
              "      <td>1022.0</td>\n",
              "      <td>SE</td>\n",
              "      <td>5.36</td>\n",
              "      <td>1</td>\n",
              "      <td>0</td>\n",
              "      <td>181</td>\n",
              "    </tr>\n",
              "    <tr>\n",
              "      <th>4</th>\n",
              "      <td>5</td>\n",
              "      <td>-7</td>\n",
              "      <td>-5.0</td>\n",
              "      <td>1022.0</td>\n",
              "      <td>SE</td>\n",
              "      <td>6.25</td>\n",
              "      <td>2</td>\n",
              "      <td>0</td>\n",
              "      <td>138</td>\n",
              "    </tr>\n",
              "    <tr>\n",
              "      <th>...</th>\n",
              "      <td>...</td>\n",
              "      <td>...</td>\n",
              "      <td>...</td>\n",
              "      <td>...</td>\n",
              "      <td>...</td>\n",
              "      <td>...</td>\n",
              "      <td>...</td>\n",
              "      <td>...</td>\n",
              "      <td>...</td>\n",
              "    </tr>\n",
              "    <tr>\n",
              "      <th>41752</th>\n",
              "      <td>41753</td>\n",
              "      <td>-23</td>\n",
              "      <td>-2.0</td>\n",
              "      <td>1034.0</td>\n",
              "      <td>NW</td>\n",
              "      <td>231.97</td>\n",
              "      <td>0</td>\n",
              "      <td>0</td>\n",
              "      <td>8</td>\n",
              "    </tr>\n",
              "    <tr>\n",
              "      <th>41753</th>\n",
              "      <td>41754</td>\n",
              "      <td>-22</td>\n",
              "      <td>-3.0</td>\n",
              "      <td>1034.0</td>\n",
              "      <td>NW</td>\n",
              "      <td>237.78</td>\n",
              "      <td>0</td>\n",
              "      <td>0</td>\n",
              "      <td>10</td>\n",
              "    </tr>\n",
              "    <tr>\n",
              "      <th>41754</th>\n",
              "      <td>41755</td>\n",
              "      <td>-22</td>\n",
              "      <td>-3.0</td>\n",
              "      <td>1034.0</td>\n",
              "      <td>NW</td>\n",
              "      <td>242.70</td>\n",
              "      <td>0</td>\n",
              "      <td>0</td>\n",
              "      <td>10</td>\n",
              "    </tr>\n",
              "    <tr>\n",
              "      <th>41755</th>\n",
              "      <td>41756</td>\n",
              "      <td>-22</td>\n",
              "      <td>-4.0</td>\n",
              "      <td>1034.0</td>\n",
              "      <td>NW</td>\n",
              "      <td>246.72</td>\n",
              "      <td>0</td>\n",
              "      <td>0</td>\n",
              "      <td>8</td>\n",
              "    </tr>\n",
              "    <tr>\n",
              "      <th>41756</th>\n",
              "      <td>41757</td>\n",
              "      <td>-21</td>\n",
              "      <td>-3.0</td>\n",
              "      <td>1034.0</td>\n",
              "      <td>NW</td>\n",
              "      <td>249.85</td>\n",
              "      <td>0</td>\n",
              "      <td>0</td>\n",
              "      <td>12</td>\n",
              "    </tr>\n",
              "  </tbody>\n",
              "</table>\n",
              "<p>41757 rows × 9 columns</p>\n",
              "</div>\n",
              "      <button class=\"colab-df-convert\" onclick=\"convertToInteractive('df-ec33f6ef-97ec-4670-a398-adec15317d01')\"\n",
              "              title=\"Convert this dataframe to an interactive table.\"\n",
              "              style=\"display:none;\">\n",
              "        \n",
              "  <svg xmlns=\"http://www.w3.org/2000/svg\" height=\"24px\"viewBox=\"0 0 24 24\"\n",
              "       width=\"24px\">\n",
              "    <path d=\"M0 0h24v24H0V0z\" fill=\"none\"/>\n",
              "    <path d=\"M18.56 5.44l.94 2.06.94-2.06 2.06-.94-2.06-.94-.94-2.06-.94 2.06-2.06.94zm-11 1L8.5 8.5l.94-2.06 2.06-.94-2.06-.94L8.5 2.5l-.94 2.06-2.06.94zm10 10l.94 2.06.94-2.06 2.06-.94-2.06-.94-.94-2.06-.94 2.06-2.06.94z\"/><path d=\"M17.41 7.96l-1.37-1.37c-.4-.4-.92-.59-1.43-.59-.52 0-1.04.2-1.43.59L10.3 9.45l-7.72 7.72c-.78.78-.78 2.05 0 2.83L4 21.41c.39.39.9.59 1.41.59.51 0 1.02-.2 1.41-.59l7.78-7.78 2.81-2.81c.8-.78.8-2.07 0-2.86zM5.41 20L4 18.59l7.72-7.72 1.47 1.35L5.41 20z\"/>\n",
              "  </svg>\n",
              "      </button>\n",
              "      \n",
              "  <style>\n",
              "    .colab-df-container {\n",
              "      display:flex;\n",
              "      flex-wrap:wrap;\n",
              "      gap: 12px;\n",
              "    }\n",
              "\n",
              "    .colab-df-convert {\n",
              "      background-color: #E8F0FE;\n",
              "      border: none;\n",
              "      border-radius: 50%;\n",
              "      cursor: pointer;\n",
              "      display: none;\n",
              "      fill: #1967D2;\n",
              "      height: 32px;\n",
              "      padding: 0 0 0 0;\n",
              "      width: 32px;\n",
              "    }\n",
              "\n",
              "    .colab-df-convert:hover {\n",
              "      background-color: #E2EBFA;\n",
              "      box-shadow: 0px 1px 2px rgba(60, 64, 67, 0.3), 0px 1px 3px 1px rgba(60, 64, 67, 0.15);\n",
              "      fill: #174EA6;\n",
              "    }\n",
              "\n",
              "    [theme=dark] .colab-df-convert {\n",
              "      background-color: #3B4455;\n",
              "      fill: #D2E3FC;\n",
              "    }\n",
              "\n",
              "    [theme=dark] .colab-df-convert:hover {\n",
              "      background-color: #434B5C;\n",
              "      box-shadow: 0px 1px 3px 1px rgba(0, 0, 0, 0.15);\n",
              "      filter: drop-shadow(0px 1px 2px rgba(0, 0, 0, 0.3));\n",
              "      fill: #FFFFFF;\n",
              "    }\n",
              "  </style>\n",
              "\n",
              "      <script>\n",
              "        const buttonEl =\n",
              "          document.querySelector('#df-ec33f6ef-97ec-4670-a398-adec15317d01 button.colab-df-convert');\n",
              "        buttonEl.style.display =\n",
              "          google.colab.kernel.accessAllowed ? 'block' : 'none';\n",
              "\n",
              "        async function convertToInteractive(key) {\n",
              "          const element = document.querySelector('#df-ec33f6ef-97ec-4670-a398-adec15317d01');\n",
              "          const dataTable =\n",
              "            await google.colab.kernel.invokeFunction('convertToInteractive',\n",
              "                                                     [key], {});\n",
              "          if (!dataTable) return;\n",
              "\n",
              "          const docLinkHtml = 'Like what you see? Visit the ' +\n",
              "            '<a target=\"_blank\" href=https://colab.research.google.com/notebooks/data_table.ipynb>data table notebook</a>'\n",
              "            + ' to learn more about interactive tables.';\n",
              "          element.innerHTML = '';\n",
              "          dataTable['output_type'] = 'display_data';\n",
              "          await google.colab.output.renderOutput(dataTable, element);\n",
              "          const docLink = document.createElement('div');\n",
              "          docLink.innerHTML = docLinkHtml;\n",
              "          element.appendChild(docLink);\n",
              "        }\n",
              "      </script>\n",
              "    </div>\n",
              "  </div>\n",
              "  "
            ]
          },
          "metadata": {},
          "execution_count": 11
        }
      ],
      "source": [
        "import pandas as pd\n",
        "import matplotlib.pyplot as plt\n",
        "import seaborn as sns\n",
        "df_train=pd.read_csv('https://raw.githubusercontent.com/Sushila-Phogat/Teachnook-Assignments/main/Main_Project/Data/train.csv')\n",
        "df_train"
      ]
    },
    {
      "cell_type": "markdown",
      "source": [
        "#Data Preprocessing"
      ],
      "metadata": {
        "id": "SPRDJwLjY_xf"
      }
    },
    {
      "cell_type": "code",
      "source": [
        "df_train.columns"
      ],
      "metadata": {
        "colab": {
          "base_uri": "https://localhost:8080/"
        },
        "id": "bNLdJcNIZCnh",
        "outputId": "97ea3600-7242-4c6c-cd29-c11190c76a66"
      },
      "execution_count": 3,
      "outputs": [
        {
          "output_type": "execute_result",
          "data": {
            "text/plain": [
              "Index(['No', 'DEWP', 'TEMP', 'PRES', 'cbwd', 'Iws', 'Is', 'Ir', 'AQI'], dtype='object')"
            ]
          },
          "metadata": {},
          "execution_count": 3
        }
      ]
    },
    {
      "cell_type": "code",
      "source": [
        "df_train.isnull().sum()"
      ],
      "metadata": {
        "colab": {
          "base_uri": "https://localhost:8080/"
        },
        "id": "3DOoybJoZhJC",
        "outputId": "84405c4a-b4f7-4582-92b1-682a2f9f2877"
      },
      "execution_count": 4,
      "outputs": [
        {
          "output_type": "execute_result",
          "data": {
            "text/plain": [
              "No      0\n",
              "DEWP    0\n",
              "TEMP    0\n",
              "PRES    0\n",
              "cbwd    0\n",
              "Iws     0\n",
              "Is      0\n",
              "Ir      0\n",
              "AQI     0\n",
              "dtype: int64"
            ]
          },
          "metadata": {},
          "execution_count": 4
        }
      ]
    },
    {
      "cell_type": "code",
      "source": [
        "df_train.duplicated().sum()"
      ],
      "metadata": {
        "colab": {
          "base_uri": "https://localhost:8080/"
        },
        "id": "cPFjAFXAejDE",
        "outputId": "d33b3793-3b67-443f-f1e6-cf029b26dced"
      },
      "execution_count": 14,
      "outputs": [
        {
          "output_type": "execute_result",
          "data": {
            "text/plain": [
              "0"
            ]
          },
          "metadata": {},
          "execution_count": 14
        }
      ]
    },
    {
      "cell_type": "code",
      "source": [
        "df_train.info()"
      ],
      "metadata": {
        "colab": {
          "base_uri": "https://localhost:8080/"
        },
        "id": "vlCJrFvzZuhw",
        "outputId": "cd64863b-74d1-4aab-e7b3-a281123c6fcc"
      },
      "execution_count": 5,
      "outputs": [
        {
          "output_type": "stream",
          "name": "stdout",
          "text": [
            "<class 'pandas.core.frame.DataFrame'>\n",
            "RangeIndex: 41757 entries, 0 to 41756\n",
            "Data columns (total 9 columns):\n",
            " #   Column  Non-Null Count  Dtype  \n",
            "---  ------  --------------  -----  \n",
            " 0   No      41757 non-null  int64  \n",
            " 1   DEWP    41757 non-null  int64  \n",
            " 2   TEMP    41757 non-null  float64\n",
            " 3   PRES    41757 non-null  float64\n",
            " 4   cbwd    41757 non-null  object \n",
            " 5   Iws     41757 non-null  float64\n",
            " 6   Is      41757 non-null  int64  \n",
            " 7   Ir      41757 non-null  int64  \n",
            " 8   AQI     41757 non-null  int64  \n",
            "dtypes: float64(3), int64(5), object(1)\n",
            "memory usage: 2.9+ MB\n"
          ]
        }
      ]
    },
    {
      "cell_type": "code",
      "source": [
        "df_train.cbwd.unique()"
      ],
      "metadata": {
        "colab": {
          "base_uri": "https://localhost:8080/"
        },
        "id": "gkjNs9B0a3Ii",
        "outputId": "70ff001a-d9ea-4fcd-c729-decf309cf720"
      },
      "execution_count": 6,
      "outputs": [
        {
          "output_type": "execute_result",
          "data": {
            "text/plain": [
              "array(['SE', 'cv', 'NW', 'NE'], dtype=object)"
            ]
          },
          "metadata": {},
          "execution_count": 6
        }
      ]
    },
    {
      "cell_type": "code",
      "source": [
        "df_train.describe()"
      ],
      "metadata": {
        "colab": {
          "base_uri": "https://localhost:8080/",
          "height": 364
        },
        "id": "5WGyQM1OxT3X",
        "outputId": "6c770b68-c60f-4ea5-de6c-3dc2145e0988"
      },
      "execution_count": 8,
      "outputs": [
        {
          "output_type": "execute_result",
          "data": {
            "text/plain": [
              "                 No          DEWP          TEMP          PRES           Iws  \\\n",
              "count  41757.000000  41757.000000  41757.000000  41757.000000  41757.000000   \n",
              "mean   20879.000000      1.750174     12.401561   1016.442896     23.866747   \n",
              "std    12054.351932     14.433658     12.175215     10.300733     49.617495   \n",
              "min        1.000000    -40.000000    -19.000000    991.000000      0.450000   \n",
              "25%    10440.000000    -10.000000      2.000000   1008.000000      1.790000   \n",
              "50%    20879.000000      2.000000     14.000000   1016.000000      5.370000   \n",
              "75%    31318.000000     15.000000     23.000000   1025.000000     21.910000   \n",
              "max    41757.000000     28.000000     42.000000   1046.000000    565.490000   \n",
              "\n",
              "                 Is            Ir           AQI  \n",
              "count  41757.000000  41757.000000  41757.000000  \n",
              "mean       0.055344      0.194866     98.613215  \n",
              "std        0.778875      1.418165     92.050387  \n",
              "min        0.000000      0.000000      0.000000  \n",
              "25%        0.000000      0.000000     29.000000  \n",
              "50%        0.000000      0.000000     72.000000  \n",
              "75%        0.000000      0.000000    137.000000  \n",
              "max       27.000000     36.000000    994.000000  "
            ],
            "text/html": [
              "\n",
              "  <div id=\"df-ffe0a347-7e0c-4545-8c0d-519c36495226\">\n",
              "    <div class=\"colab-df-container\">\n",
              "      <div>\n",
              "<style scoped>\n",
              "    .dataframe tbody tr th:only-of-type {\n",
              "        vertical-align: middle;\n",
              "    }\n",
              "\n",
              "    .dataframe tbody tr th {\n",
              "        vertical-align: top;\n",
              "    }\n",
              "\n",
              "    .dataframe thead th {\n",
              "        text-align: right;\n",
              "    }\n",
              "</style>\n",
              "<table border=\"1\" class=\"dataframe\">\n",
              "  <thead>\n",
              "    <tr style=\"text-align: right;\">\n",
              "      <th></th>\n",
              "      <th>No</th>\n",
              "      <th>DEWP</th>\n",
              "      <th>TEMP</th>\n",
              "      <th>PRES</th>\n",
              "      <th>Iws</th>\n",
              "      <th>Is</th>\n",
              "      <th>Ir</th>\n",
              "      <th>AQI</th>\n",
              "    </tr>\n",
              "  </thead>\n",
              "  <tbody>\n",
              "    <tr>\n",
              "      <th>count</th>\n",
              "      <td>41757.000000</td>\n",
              "      <td>41757.000000</td>\n",
              "      <td>41757.000000</td>\n",
              "      <td>41757.000000</td>\n",
              "      <td>41757.000000</td>\n",
              "      <td>41757.000000</td>\n",
              "      <td>41757.000000</td>\n",
              "      <td>41757.000000</td>\n",
              "    </tr>\n",
              "    <tr>\n",
              "      <th>mean</th>\n",
              "      <td>20879.000000</td>\n",
              "      <td>1.750174</td>\n",
              "      <td>12.401561</td>\n",
              "      <td>1016.442896</td>\n",
              "      <td>23.866747</td>\n",
              "      <td>0.055344</td>\n",
              "      <td>0.194866</td>\n",
              "      <td>98.613215</td>\n",
              "    </tr>\n",
              "    <tr>\n",
              "      <th>std</th>\n",
              "      <td>12054.351932</td>\n",
              "      <td>14.433658</td>\n",
              "      <td>12.175215</td>\n",
              "      <td>10.300733</td>\n",
              "      <td>49.617495</td>\n",
              "      <td>0.778875</td>\n",
              "      <td>1.418165</td>\n",
              "      <td>92.050387</td>\n",
              "    </tr>\n",
              "    <tr>\n",
              "      <th>min</th>\n",
              "      <td>1.000000</td>\n",
              "      <td>-40.000000</td>\n",
              "      <td>-19.000000</td>\n",
              "      <td>991.000000</td>\n",
              "      <td>0.450000</td>\n",
              "      <td>0.000000</td>\n",
              "      <td>0.000000</td>\n",
              "      <td>0.000000</td>\n",
              "    </tr>\n",
              "    <tr>\n",
              "      <th>25%</th>\n",
              "      <td>10440.000000</td>\n",
              "      <td>-10.000000</td>\n",
              "      <td>2.000000</td>\n",
              "      <td>1008.000000</td>\n",
              "      <td>1.790000</td>\n",
              "      <td>0.000000</td>\n",
              "      <td>0.000000</td>\n",
              "      <td>29.000000</td>\n",
              "    </tr>\n",
              "    <tr>\n",
              "      <th>50%</th>\n",
              "      <td>20879.000000</td>\n",
              "      <td>2.000000</td>\n",
              "      <td>14.000000</td>\n",
              "      <td>1016.000000</td>\n",
              "      <td>5.370000</td>\n",
              "      <td>0.000000</td>\n",
              "      <td>0.000000</td>\n",
              "      <td>72.000000</td>\n",
              "    </tr>\n",
              "    <tr>\n",
              "      <th>75%</th>\n",
              "      <td>31318.000000</td>\n",
              "      <td>15.000000</td>\n",
              "      <td>23.000000</td>\n",
              "      <td>1025.000000</td>\n",
              "      <td>21.910000</td>\n",
              "      <td>0.000000</td>\n",
              "      <td>0.000000</td>\n",
              "      <td>137.000000</td>\n",
              "    </tr>\n",
              "    <tr>\n",
              "      <th>max</th>\n",
              "      <td>41757.000000</td>\n",
              "      <td>28.000000</td>\n",
              "      <td>42.000000</td>\n",
              "      <td>1046.000000</td>\n",
              "      <td>565.490000</td>\n",
              "      <td>27.000000</td>\n",
              "      <td>36.000000</td>\n",
              "      <td>994.000000</td>\n",
              "    </tr>\n",
              "  </tbody>\n",
              "</table>\n",
              "</div>\n",
              "      <button class=\"colab-df-convert\" onclick=\"convertToInteractive('df-ffe0a347-7e0c-4545-8c0d-519c36495226')\"\n",
              "              title=\"Convert this dataframe to an interactive table.\"\n",
              "              style=\"display:none;\">\n",
              "        \n",
              "  <svg xmlns=\"http://www.w3.org/2000/svg\" height=\"24px\"viewBox=\"0 0 24 24\"\n",
              "       width=\"24px\">\n",
              "    <path d=\"M0 0h24v24H0V0z\" fill=\"none\"/>\n",
              "    <path d=\"M18.56 5.44l.94 2.06.94-2.06 2.06-.94-2.06-.94-.94-2.06-.94 2.06-2.06.94zm-11 1L8.5 8.5l.94-2.06 2.06-.94-2.06-.94L8.5 2.5l-.94 2.06-2.06.94zm10 10l.94 2.06.94-2.06 2.06-.94-2.06-.94-.94-2.06-.94 2.06-2.06.94z\"/><path d=\"M17.41 7.96l-1.37-1.37c-.4-.4-.92-.59-1.43-.59-.52 0-1.04.2-1.43.59L10.3 9.45l-7.72 7.72c-.78.78-.78 2.05 0 2.83L4 21.41c.39.39.9.59 1.41.59.51 0 1.02-.2 1.41-.59l7.78-7.78 2.81-2.81c.8-.78.8-2.07 0-2.86zM5.41 20L4 18.59l7.72-7.72 1.47 1.35L5.41 20z\"/>\n",
              "  </svg>\n",
              "      </button>\n",
              "      \n",
              "  <style>\n",
              "    .colab-df-container {\n",
              "      display:flex;\n",
              "      flex-wrap:wrap;\n",
              "      gap: 12px;\n",
              "    }\n",
              "\n",
              "    .colab-df-convert {\n",
              "      background-color: #E8F0FE;\n",
              "      border: none;\n",
              "      border-radius: 50%;\n",
              "      cursor: pointer;\n",
              "      display: none;\n",
              "      fill: #1967D2;\n",
              "      height: 32px;\n",
              "      padding: 0 0 0 0;\n",
              "      width: 32px;\n",
              "    }\n",
              "\n",
              "    .colab-df-convert:hover {\n",
              "      background-color: #E2EBFA;\n",
              "      box-shadow: 0px 1px 2px rgba(60, 64, 67, 0.3), 0px 1px 3px 1px rgba(60, 64, 67, 0.15);\n",
              "      fill: #174EA6;\n",
              "    }\n",
              "\n",
              "    [theme=dark] .colab-df-convert {\n",
              "      background-color: #3B4455;\n",
              "      fill: #D2E3FC;\n",
              "    }\n",
              "\n",
              "    [theme=dark] .colab-df-convert:hover {\n",
              "      background-color: #434B5C;\n",
              "      box-shadow: 0px 1px 3px 1px rgba(0, 0, 0, 0.15);\n",
              "      filter: drop-shadow(0px 1px 2px rgba(0, 0, 0, 0.3));\n",
              "      fill: #FFFFFF;\n",
              "    }\n",
              "  </style>\n",
              "\n",
              "      <script>\n",
              "        const buttonEl =\n",
              "          document.querySelector('#df-ffe0a347-7e0c-4545-8c0d-519c36495226 button.colab-df-convert');\n",
              "        buttonEl.style.display =\n",
              "          google.colab.kernel.accessAllowed ? 'block' : 'none';\n",
              "\n",
              "        async function convertToInteractive(key) {\n",
              "          const element = document.querySelector('#df-ffe0a347-7e0c-4545-8c0d-519c36495226');\n",
              "          const dataTable =\n",
              "            await google.colab.kernel.invokeFunction('convertToInteractive',\n",
              "                                                     [key], {});\n",
              "          if (!dataTable) return;\n",
              "\n",
              "          const docLinkHtml = 'Like what you see? Visit the ' +\n",
              "            '<a target=\"_blank\" href=https://colab.research.google.com/notebooks/data_table.ipynb>data table notebook</a>'\n",
              "            + ' to learn more about interactive tables.';\n",
              "          element.innerHTML = '';\n",
              "          dataTable['output_type'] = 'display_data';\n",
              "          await google.colab.output.renderOutput(dataTable, element);\n",
              "          const docLink = document.createElement('div');\n",
              "          docLink.innerHTML = docLinkHtml;\n",
              "          element.appendChild(docLink);\n",
              "        }\n",
              "      </script>\n",
              "    </div>\n",
              "  </div>\n",
              "  "
            ]
          },
          "metadata": {},
          "execution_count": 8
        }
      ]
    },
    {
      "cell_type": "markdown",
      "source": [
        "#EDA"
      ],
      "metadata": {
        "id": "4YH-wsk9XZU5"
      }
    },
    {
      "cell_type": "code",
      "source": [],
      "metadata": {
        "id": "taxFDzG0Zw-p"
      },
      "execution_count": null,
      "outputs": []
    },
    {
      "cell_type": "code",
      "source": [
        "plt.figure(figsize=(10,10))\n",
        "sns.heatmap(df_train.corr(),cbar=True,annot=True,cmap='Blues')"
      ],
      "metadata": {
        "colab": {
          "base_uri": "https://localhost:8080/",
          "height": 613
        },
        "id": "zJuKMfvfWT1q",
        "outputId": "cb80da4d-81a1-424e-eb59-c093235af668"
      },
      "execution_count": 12,
      "outputs": [
        {
          "output_type": "execute_result",
          "data": {
            "text/plain": [
              "<matplotlib.axes._subplots.AxesSubplot at 0x7fc0fa398e50>"
            ]
          },
          "metadata": {},
          "execution_count": 12
        },
        {
          "output_type": "display_data",
          "data": {
            "text/plain": [
              "<Figure size 720x720 with 2 Axes>"
            ],
            "image/png": "[encoded data removed]"
          },
          "metadata": {
            "needs_background": "light"
          }
        }
      ]
    },
    {
      "cell_type": "code",
      "source": [],
      "metadata": {
        "id": "1lXGY-JdXcP7"
      },
      "execution_count": null,
      "outputs": []
    }
  ]
}