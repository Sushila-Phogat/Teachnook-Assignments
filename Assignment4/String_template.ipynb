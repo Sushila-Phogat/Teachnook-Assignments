{
  "nbformat": 4,
  "nbformat_minor": 0,
  "metadata": {
    "colab": {
      "provenance": [],
      "authorship_tag": "ABX9TyPD3F3H7vb9qxoz3wY8n4cQ",
      "include_colab_link": true
    },
    "kernelspec": {
      "name": "python3",
      "display_name": "Python 3"
    },
    "language_info": {
      "name": "python"
    }
  },
  "cells": [
    {
      "cell_type": "markdown",
      "metadata": {
        "id": "view-in-github",
        "colab_type": "text"
      },
      "source": [
        "<a href=\"https://colab.research.google.com/github/Sushila-Phogat/Teachnook-Assignments/blob/main/Assignment4/String_template.ipynb\" target=\"_parent\"><img src=\"https://colab.research.google.com/assets/colab-badge.svg\" alt=\"Open In Colab\"/></a>"
      ]
    },
    {
      "cell_type": "markdown",
      "source": [
        "#String Template"
      ],
      "metadata": {
        "id": "2wI2fKf5ihjL"
      }
    },
    {
      "cell_type": "code",
      "execution_count": 1,
      "metadata": {
        "colab": {
          "base_uri": "https://localhost:8080/"
        },
        "id": "r3KGTXGiienT",
        "outputId": "5015e683-03e3-4a97-b955-d13b1e7212cf"
      },
      "outputs": [
        {
          "output_type": "stream",
          "name": "stdout",
          "text": [
            "x is 1\n"
          ]
        }
      ],
      "source": [
        "# A Simple Python template example\n",
        "from string import Template\n",
        " \n",
        "t = Template('x is $x')\n",
        " \n",
        "print (t.substitute({'x' : 1}))"
      ]
    },
    {
      "cell_type": "code",
      "source": [
        "temp_str = 'Hi $name, welcome to $mygithub'\n",
        "temp_obj = Template(temp_str)\n",
        "temp_obj.substitute(name='There', mygithub='https://github.com/Sushila-Phogat')"
      ],
      "metadata": {
        "colab": {
          "base_uri": "https://localhost:8080/",
          "height": 37
        },
        "id": "OCkvVGc7iwuE",
        "outputId": "bab75174-6c0e-4cdc-fe35-55a51d0987c5"
      },
      "execution_count": 2,
      "outputs": [
        {
          "output_type": "execute_result",
          "data": {
            "text/plain": [
              "'Hi There, welcome to https://github.com/Sushila-Phogat'"
            ],
            "application/vnd.google.colaboratory.intrinsic+json": {
              "type": "string"
            }
          },
          "metadata": {},
          "execution_count": 2
        }
      ]
    }
  ]
}