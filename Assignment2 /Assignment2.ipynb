{
  "nbformat": 4,
  "nbformat_minor": 0,
  "metadata": {
    "colab": {
      "provenance": [],
      "authorship_tag": "ABX9TyPdAhytaRF3A3oX2IP9R2wW",
      "include_colab_link": true
    },
    "kernelspec": {
      "name": "python3",
      "display_name": "Python 3"
    },
    "language_info": {
      "name": "python"
    }
  },
  "cells": [
    {
      "cell_type": "markdown",
      "metadata": {
        "id": "view-in-github",
        "colab_type": "text"
      },
      "source": [
        "<a href=\"https://colab.research.google.com/github/Sushila-Phogat/Teachnook-Assignments/blob/main/Assignment2%20/Assignment2.ipynb\" target=\"_parent\"><img src=\"https://colab.research.google.com/assets/colab-badge.svg\" alt=\"Open In Colab\"/></a>"
      ]
    },
    {
      "cell_type": "markdown",
      "source": [
        "#List Functions\n"
      ],
      "metadata": {
        "id": "M-Tj3wnF96l1"
      }
    },
    {
      "cell_type": "markdown",
      "source": [
        "###Append()"
      ],
      "metadata": {
        "id": "vsJAy2uq-srj"
      }
    },
    {
      "cell_type": "code",
      "execution_count": 1,
      "metadata": {
        "colab": {
          "base_uri": "https://localhost:8080/"
        },
        "id": "0hq1h22lMrXh",
        "outputId": "db5fba72-510e-493b-92a4-e61be7b3e420"
      },
      "outputs": [
        {
          "output_type": "stream",
          "name": "stdout",
          "text": [
            "['January', 'February', 'March', 'April']\n"
          ]
        }
      ],
      "source": [
        "months = ['January', 'February', 'March'] \n",
        "months.append('April') \n",
        "print(months)"
      ]
    },
    {
      "cell_type": "markdown",
      "source": [
        "###extend()"
      ],
      "metadata": {
        "id": "m5AMBEnn-yLk"
      }
    },
    {
      "cell_type": "code",
      "source": [
        "months = ['January', 'February', 'March'] \n",
        "months.extend(['April','May','June']) \n",
        "print(months)"
      ],
      "metadata": {
        "colab": {
          "base_uri": "https://localhost:8080/"
        },
        "id": "JGLtai1T-6Mm",
        "outputId": "cd05e220-ee83-4d81-dbbc-c78d74d52bb5"
      },
      "execution_count": 29,
      "outputs": [
        {
          "output_type": "stream",
          "name": "stdout",
          "text": [
            "['January', 'February', 'March', 'April', 'May', 'June']\n"
          ]
        }
      ]
    },
    {
      "cell_type": "markdown",
      "source": [
        "###index() "
      ],
      "metadata": {
        "id": "9hJCAgYo_CBT"
      }
    },
    {
      "cell_type": "code",
      "source": [
        "months.index('March')"
      ],
      "metadata": {
        "colab": {
          "base_uri": "https://localhost:8080/"
        },
        "id": "cFtUdv2r_F7A",
        "outputId": "7af2e7e1-13be-4189-b860-0698c7bb4aa5"
      },
      "execution_count": 30,
      "outputs": [
        {
          "output_type": "execute_result",
          "data": {
            "text/plain": [
              "2"
            ]
          },
          "metadata": {},
          "execution_count": 30
        }
      ]
    },
    {
      "cell_type": "code",
      "source": [
        "months.append('March')\n",
        "print(months)\n",
        "months.index('March',2,8)"
      ],
      "metadata": {
        "colab": {
          "base_uri": "https://localhost:8080/"
        },
        "id": "DD-WTEhqEyaQ",
        "outputId": "078ebcaa-a803-4e92-f9a2-29fbf8c517ea"
      },
      "execution_count": 33,
      "outputs": [
        {
          "output_type": "stream",
          "name": "stdout",
          "text": [
            "['January', 'February', 'March', 'April', 'May', 'June', 'March', 'March', 'March']\n"
          ]
        },
        {
          "output_type": "execute_result",
          "data": {
            "text/plain": [
              "2"
            ]
          },
          "metadata": {},
          "execution_count": 33
        }
      ]
    },
    {
      "cell_type": "markdown",
      "source": [
        "###len(), max() & min()"
      ],
      "metadata": {
        "id": "tIUHgpdO_ME1"
      }
    },
    {
      "cell_type": "code",
      "source": [
        "num = [589.36, 237.81, 230.87, 463.98, 453.42] \n",
        "print(len(num),max(num),min(num))"
      ],
      "metadata": {
        "colab": {
          "base_uri": "https://localhost:8080/"
        },
        "id": "KloFVxJa_RGy",
        "outputId": "8e0751fe-4544-497f-88c0-28075bd7772e"
      },
      "execution_count": 5,
      "outputs": [
        {
          "output_type": "stream",
          "name": "stdout",
          "text": [
            "5 589.36 230.87\n"
          ]
        }
      ]
    },
    {
      "cell_type": "markdown",
      "source": [
        "###clear()"
      ],
      "metadata": {
        "id": "p9fsOqRw_YxU"
      }
    },
    {
      "cell_type": "code",
      "source": [
        "months = ['January', 'February', 'March', 'April', 'May'] \n",
        "months.clear()\n",
        "print(months)"
      ],
      "metadata": {
        "colab": {
          "base_uri": "https://localhost:8080/"
        },
        "id": "3xbttS3uAMyh",
        "outputId": "c8a9adad-074c-40ef-db34-89b95055d4d1"
      },
      "execution_count": 6,
      "outputs": [
        {
          "output_type": "stream",
          "name": "stdout",
          "text": [
            "[]\n"
          ]
        }
      ]
    },
    {
      "cell_type": "markdown",
      "source": [
        "###insert()"
      ],
      "metadata": {
        "id": "0w83v9a6AvB8"
      }
    },
    {
      "cell_type": "code",
      "source": [
        "months.insert(2,'December')\n",
        "months.insert(2,'January')\n",
        "print(months)"
      ],
      "metadata": {
        "colab": {
          "base_uri": "https://localhost:8080/"
        },
        "id": "PruaXxJXAyS_",
        "outputId": "55ae0c3f-b8c5-431e-c7ad-f971828182b9"
      },
      "execution_count": 13,
      "outputs": [
        {
          "output_type": "stream",
          "name": "stdout",
          "text": [
            "['December', 'December', 'January', 'December']\n"
          ]
        }
      ]
    },
    {
      "cell_type": "markdown",
      "source": [
        "###count() "
      ],
      "metadata": {
        "id": "FdxDUze9BMTO"
      }
    },
    {
      "cell_type": "code",
      "source": [
        "months.count('December')"
      ],
      "metadata": {
        "colab": {
          "base_uri": "https://localhost:8080/"
        },
        "id": "s_vlZvpnBRAq",
        "outputId": "f08f3b9b-06c0-4bc9-9945-623e275e2825"
      },
      "execution_count": 14,
      "outputs": [
        {
          "output_type": "execute_result",
          "data": {
            "text/plain": [
              "3"
            ]
          },
          "metadata": {},
          "execution_count": 14
        }
      ]
    },
    {
      "cell_type": "markdown",
      "source": [
        "###pop() "
      ],
      "metadata": {
        "id": "EyB87vedCAfq"
      }
    },
    {
      "cell_type": "code",
      "source": [
        "months.pop(2)\n",
        "print(months)"
      ],
      "metadata": {
        "colab": {
          "base_uri": "https://localhost:8080/"
        },
        "id": "kveQkNzdCEcy",
        "outputId": "a09042b1-0ad8-4d40-de72-3b3a4978903a"
      },
      "execution_count": 15,
      "outputs": [
        {
          "output_type": "stream",
          "name": "stdout",
          "text": [
            "['December', 'December', 'December']\n"
          ]
        }
      ]
    },
    {
      "cell_type": "markdown",
      "source": [
        "###remove()"
      ],
      "metadata": {
        "id": "DlmnNwloCVf5"
      }
    },
    {
      "cell_type": "code",
      "source": [
        "months.insert(2,'Feburary')\n",
        "print(months)\n",
        "months.remove('December')\n",
        "print(months)"
      ],
      "metadata": {
        "colab": {
          "base_uri": "https://localhost:8080/"
        },
        "id": "ljDWz8buCZcT",
        "outputId": "6f204dec-f060-40a9-e1a2-1da67165d292"
      },
      "execution_count": 18,
      "outputs": [
        {
          "output_type": "stream",
          "name": "stdout",
          "text": [
            "['December', 'Feburary', 'Feburary', 'December']\n",
            "['Feburary', 'Feburary', 'December']\n"
          ]
        }
      ]
    },
    {
      "cell_type": "markdown",
      "source": [
        "###reverse()"
      ],
      "metadata": {
        "id": "MOvnQOUECoAd"
      }
    },
    {
      "cell_type": "code",
      "source": [
        "fruits = ['apple', 'banana', 'cherry', 'orange', 'pineapple']\n",
        "fruits.reverse()\n",
        "fruits"
      ],
      "metadata": {
        "colab": {
          "base_uri": "https://localhost:8080/"
        },
        "id": "v4CYF0IYDVc3",
        "outputId": "f20cf8ab-6334-4878-ceab-1157c221fac4"
      },
      "execution_count": 21,
      "outputs": [
        {
          "output_type": "execute_result",
          "data": {
            "text/plain": [
              "['pineapple', 'orange', 'cherry', 'banana', 'apple']"
            ]
          },
          "metadata": {},
          "execution_count": 21
        }
      ]
    },
    {
      "cell_type": "markdown",
      "source": [
        "###copy()"
      ],
      "metadata": {
        "id": "D4k8uF62DXWG"
      }
    },
    {
      "cell_type": "code",
      "source": [
        "fruits = ['apple', 'banana', 'cherry', 'orange']\n",
        "x = fruits.copy()\n",
        "print(x)"
      ],
      "metadata": {
        "colab": {
          "base_uri": "https://localhost:8080/"
        },
        "id": "v3g_HV2hD41u",
        "outputId": "84d169e7-74ea-4980-b7b6-4eb5c1a73b2f"
      },
      "execution_count": 22,
      "outputs": [
        {
          "output_type": "stream",
          "name": "stdout",
          "text": [
            "['apple', 'banana', 'cherry', 'orange']\n"
          ]
        }
      ]
    },
    {
      "cell_type": "code",
      "source": [
        "x.insert(1,'kiwi')\n",
        "print(fruits)\n",
        "print(x)"
      ],
      "metadata": {
        "colab": {
          "base_uri": "https://localhost:8080/"
        },
        "id": "esOAqsthD-MP",
        "outputId": "27630c30-550a-4f8d-f18d-767af9a99aaa"
      },
      "execution_count": 23,
      "outputs": [
        {
          "output_type": "stream",
          "name": "stdout",
          "text": [
            "['apple', 'banana', 'cherry', 'orange']\n",
            "['apple', 'kiwi', 'banana', 'cherry', 'orange']\n"
          ]
        }
      ]
    },
    {
      "cell_type": "code",
      "source": [
        "fruits = ['apple', 'banana', 'cherry', 'orange']\n",
        "x = fruits\n",
        "print(x)"
      ],
      "metadata": {
        "colab": {
          "base_uri": "https://localhost:8080/"
        },
        "id": "zSNVOa1mEI18",
        "outputId": "95b714e6-c1bb-44e8-c3ec-c8e5c8945b96"
      },
      "execution_count": 24,
      "outputs": [
        {
          "output_type": "stream",
          "name": "stdout",
          "text": [
            "['apple', 'banana', 'cherry', 'orange']\n"
          ]
        }
      ]
    },
    {
      "cell_type": "code",
      "source": [
        "x.insert(1,'kiwi')\n",
        "print(fruits)\n",
        "print(x)"
      ],
      "metadata": {
        "colab": {
          "base_uri": "https://localhost:8080/"
        },
        "id": "BjIlCl9TEPmw",
        "outputId": "5470d77d-b545-46d0-98b3-4854498eeaba"
      },
      "execution_count": 25,
      "outputs": [
        {
          "output_type": "stream",
          "name": "stdout",
          "text": [
            "['apple', 'kiwi', 'banana', 'cherry', 'orange']\n",
            "['apple', 'kiwi', 'banana', 'cherry', 'orange']\n"
          ]
        }
      ]
    },
    {
      "cell_type": "markdown",
      "source": [
        "#Tuple"
      ],
      "metadata": {
        "id": "A0y91tidGBkK"
      }
    },
    {
      "cell_type": "markdown",
      "source": [
        "###unpacking"
      ],
      "metadata": {
        "id": "tYM7lJ2xGF5X"
      }
    },
    {
      "cell_type": "code",
      "source": [
        "my_tuple = (\"mouse\", [8, 4, 6], (1, 2, 3))\n",
        "a,b,c =my_tuple\n",
        "print(a,b,c)"
      ],
      "metadata": {
        "colab": {
          "base_uri": "https://localhost:8080/"
        },
        "id": "a4TVgHbGIiW3",
        "outputId": "08ddb6e3-a2cd-4fde-f719-a0b6d085b7d1"
      },
      "execution_count": 34,
      "outputs": [
        {
          "output_type": "stream",
          "name": "stdout",
          "text": [
            "mouse [8, 4, 6] (1, 2, 3)\n"
          ]
        }
      ]
    },
    {
      "cell_type": "markdown",
      "source": [
        "###Immutability"
      ],
      "metadata": {
        "id": "UgiBAszKIsYw"
      }
    },
    {
      "cell_type": "code",
      "source": [
        "# Changing tuple values\n",
        "my_tuple = (4, 2, 3, [6, 5])\n",
        "\n",
        "my_tuple[1] = 9\n",
        "print(my_tuple)\n"
      ],
      "metadata": {
        "colab": {
          "base_uri": "https://localhost:8080/",
          "height": 232
        },
        "id": "y1UXvcmtGEPa",
        "outputId": "28a4622b-2162-4ddf-91e6-c9cbc737779d"
      },
      "execution_count": 35,
      "outputs": [
        {
          "output_type": "error",
          "ename": "TypeError",
          "evalue": "ignored",
          "traceback": [
            "\u001b[0;31m---------------------------------------------------------------------------\u001b[0m",
            "\u001b[0;31mTypeError\u001b[0m                                 Traceback (most recent call last)",
            "\u001b[0;32m<ipython-input-35-10403e0ee93a>\u001b[0m in \u001b[0;36m<module>\u001b[0;34m\u001b[0m\n\u001b[1;32m      2\u001b[0m \u001b[0mmy_tuple\u001b[0m \u001b[0;34m=\u001b[0m \u001b[0;34m(\u001b[0m\u001b[0;36m4\u001b[0m\u001b[0;34m,\u001b[0m \u001b[0;36m2\u001b[0m\u001b[0;34m,\u001b[0m \u001b[0;36m3\u001b[0m\u001b[0;34m,\u001b[0m \u001b[0;34m[\u001b[0m\u001b[0;36m6\u001b[0m\u001b[0;34m,\u001b[0m \u001b[0;36m5\u001b[0m\u001b[0;34m]\u001b[0m\u001b[0;34m)\u001b[0m\u001b[0;34m\u001b[0m\u001b[0;34m\u001b[0m\u001b[0m\n\u001b[1;32m      3\u001b[0m \u001b[0;34m\u001b[0m\u001b[0m\n\u001b[0;32m----> 4\u001b[0;31m \u001b[0mmy_tuple\u001b[0m\u001b[0;34m[\u001b[0m\u001b[0;36m1\u001b[0m\u001b[0;34m]\u001b[0m \u001b[0;34m=\u001b[0m \u001b[0;36m9\u001b[0m\u001b[0;34m\u001b[0m\u001b[0;34m\u001b[0m\u001b[0m\n\u001b[0m\u001b[1;32m      5\u001b[0m \u001b[0mprint\u001b[0m\u001b[0;34m(\u001b[0m\u001b[0mmy_tuple\u001b[0m\u001b[0;34m)\u001b[0m\u001b[0;34m\u001b[0m\u001b[0;34m\u001b[0m\u001b[0m\n\u001b[1;32m      6\u001b[0m \u001b[0mmy_tuple\u001b[0m\u001b[0;34m[\u001b[0m\u001b[0;36m3\u001b[0m\u001b[0;34m]\u001b[0m\u001b[0;34m[\u001b[0m\u001b[0;36m0\u001b[0m\u001b[0;34m]\u001b[0m \u001b[0;34m=\u001b[0m \u001b[0;36m9\u001b[0m\u001b[0;34m\u001b[0m\u001b[0;34m\u001b[0m\u001b[0m\n",
            "\u001b[0;31mTypeError\u001b[0m: 'tuple' object does not support item assignment"
          ]
        }
      ]
    },
    {
      "cell_type": "code",
      "source": [
        "my_tuple[3][0] = 9  \n",
        "print(my_tuple)"
      ],
      "metadata": {
        "colab": {
          "base_uri": "https://localhost:8080/"
        },
        "id": "beUyI13gJJhC",
        "outputId": "d547e63d-0849-4e19-ff6b-dc97517ba8b5"
      },
      "execution_count": 36,
      "outputs": [
        {
          "output_type": "stream",
          "name": "stdout",
          "text": [
            "(4, 2, 3, [9, 5])\n"
          ]
        }
      ]
    },
    {
      "cell_type": "markdown",
      "source": [
        "###Delete a tuple"
      ],
      "metadata": {
        "id": "A8zBIhrLJLPt"
      }
    },
    {
      "cell_type": "code",
      "source": [
        "# Deleting tuples\n",
        "my_tuple = ('p', 'r', 'o', 'g', 'r', 'a', 'm', 'i', 'z')\n",
        "\n",
        "# can't delete items\n",
        "del my_tuple[3]"
      ],
      "metadata": {
        "colab": {
          "base_uri": "https://localhost:8080/",
          "height": 198
        },
        "id": "cVoX0w3nJjOh",
        "outputId": "9e00c3da-26e6-4c11-a197-65a544f4b0e5"
      },
      "execution_count": 37,
      "outputs": [
        {
          "output_type": "error",
          "ename": "TypeError",
          "evalue": "ignored",
          "traceback": [
            "\u001b[0;31m---------------------------------------------------------------------------\u001b[0m",
            "\u001b[0;31mTypeError\u001b[0m                                 Traceback (most recent call last)",
            "\u001b[0;32m<ipython-input-37-aadaea1bacda>\u001b[0m in \u001b[0;36m<module>\u001b[0;34m\u001b[0m\n\u001b[1;32m      3\u001b[0m \u001b[0;34m\u001b[0m\u001b[0m\n\u001b[1;32m      4\u001b[0m \u001b[0;31m# can't delete items\u001b[0m\u001b[0;34m\u001b[0m\u001b[0;34m\u001b[0m\u001b[0;34m\u001b[0m\u001b[0m\n\u001b[0;32m----> 5\u001b[0;31m \u001b[0;32mdel\u001b[0m \u001b[0mmy_tuple\u001b[0m\u001b[0;34m[\u001b[0m\u001b[0;36m3\u001b[0m\u001b[0;34m]\u001b[0m\u001b[0;34m\u001b[0m\u001b[0;34m\u001b[0m\u001b[0m\n\u001b[0m",
            "\u001b[0;31mTypeError\u001b[0m: 'tuple' object doesn't support item deletion"
          ]
        }
      ]
    },
    {
      "cell_type": "code",
      "source": [
        "# Can delete an entire tuple\n",
        "del my_tuple\n",
        "\n",
        "# NameError: name 'my_tuple' is not defined\n",
        "print(my_tuple)"
      ],
      "metadata": {
        "colab": {
          "base_uri": "https://localhost:8080/",
          "height": 198
        },
        "id": "n4Hmm-34Jo6w",
        "outputId": "95b23d71-aaf2-4a45-a2fa-5c2955105cc5"
      },
      "execution_count": 38,
      "outputs": [
        {
          "output_type": "error",
          "ename": "NameError",
          "evalue": "ignored",
          "traceback": [
            "\u001b[0;31m---------------------------------------------------------------------------\u001b[0m",
            "\u001b[0;31mNameError\u001b[0m                                 Traceback (most recent call last)",
            "\u001b[0;32m<ipython-input-38-d0b1e6b23d17>\u001b[0m in \u001b[0;36m<module>\u001b[0;34m\u001b[0m\n\u001b[1;32m      3\u001b[0m \u001b[0;34m\u001b[0m\u001b[0m\n\u001b[1;32m      4\u001b[0m \u001b[0;31m# NameError: name 'my_tuple' is not defined\u001b[0m\u001b[0;34m\u001b[0m\u001b[0;34m\u001b[0m\u001b[0;34m\u001b[0m\u001b[0m\n\u001b[0;32m----> 5\u001b[0;31m \u001b[0mprint\u001b[0m\u001b[0;34m(\u001b[0m\u001b[0mmy_tuple\u001b[0m\u001b[0;34m)\u001b[0m\u001b[0;34m\u001b[0m\u001b[0;34m\u001b[0m\u001b[0m\n\u001b[0m",
            "\u001b[0;31mNameError\u001b[0m: name 'my_tuple' is not defined"
          ]
        }
      ]
    },
    {
      "cell_type": "markdown",
      "source": [
        "###count() & index()"
      ],
      "metadata": {
        "id": "iytLLZNaKA4P"
      }
    },
    {
      "cell_type": "code",
      "source": [
        "my_tuple = ('a', 'p', 'p', 'l', 'e',)\n",
        "\n",
        "print(my_tuple.count('p')) \n",
        "print(my_tuple.index('l')) \n",
        "print(my_tuple.index('p',2,4)) "
      ],
      "metadata": {
        "colab": {
          "base_uri": "https://localhost:8080/"
        },
        "id": "OxRSIUbFKEgo",
        "outputId": "2f3572aa-5cec-4ba5-b0e4-4f694c351344"
      },
      "execution_count": 41,
      "outputs": [
        {
          "output_type": "stream",
          "name": "stdout",
          "text": [
            "2\n",
            "3\n",
            "2\n"
          ]
        }
      ]
    },
    {
      "cell_type": "markdown",
      "source": [
        "#Dictionary"
      ],
      "metadata": {
        "id": "lZ8VQfQlK29M"
      }
    },
    {
      "cell_type": "markdown",
      "source": [
        "###Accessing the Dictionary"
      ],
      "metadata": {
        "id": "9BNkCZ0dK7eU"
      }
    },
    {
      "cell_type": "code",
      "source": [
        "capitals = {\"USA\":\"Washington DC\", \"France\":\"Paris\", \"India\":\"New Delhi\"}\n",
        "capitals[\"USA\"]"
      ],
      "metadata": {
        "colab": {
          "base_uri": "https://localhost:8080/",
          "height": 37
        },
        "id": "lOi3BdmhK6IS",
        "outputId": "df732f6f-30f4-42a3-b439-f79df2fcb2f3"
      },
      "execution_count": 56,
      "outputs": [
        {
          "output_type": "execute_result",
          "data": {
            "text/plain": [
              "'Washington DC'"
            ],
            "application/vnd.google.colaboratory.intrinsic+json": {
              "type": "string"
            }
          },
          "metadata": {},
          "execution_count": 56
        }
      ]
    },
    {
      "cell_type": "code",
      "source": [
        "capitals.items()"
      ],
      "metadata": {
        "colab": {
          "base_uri": "https://localhost:8080/"
        },
        "id": "jspE-Jd9PUkh",
        "outputId": "9e6045a3-e658-45e0-f93a-9aa95c9b6377"
      },
      "execution_count": 57,
      "outputs": [
        {
          "output_type": "execute_result",
          "data": {
            "text/plain": [
              "dict_items([('USA', 'Washington DC'), ('France', 'Paris'), ('India', 'New Delhi')])"
            ]
          },
          "metadata": {},
          "execution_count": 57
        }
      ]
    },
    {
      "cell_type": "code",
      "source": [
        "capitals.keys()"
      ],
      "metadata": {
        "colab": {
          "base_uri": "https://localhost:8080/"
        },
        "id": "29ARalz1PY1h",
        "outputId": "020c28bc-8d2f-4e2a-c15d-67ccec0c1dd1"
      },
      "execution_count": 58,
      "outputs": [
        {
          "output_type": "execute_result",
          "data": {
            "text/plain": [
              "dict_keys(['USA', 'France', 'India'])"
            ]
          },
          "metadata": {},
          "execution_count": 58
        }
      ]
    },
    {
      "cell_type": "code",
      "source": [
        "capitals[\"usa\"]  # Error: Key is case-sensitive"
      ],
      "metadata": {
        "colab": {
          "base_uri": "https://localhost:8080/",
          "height": 164
        },
        "id": "YnAc5SeAJryX",
        "outputId": "5e83ba4d-3e97-490e-d0e6-f580e22fe192"
      },
      "execution_count": 43,
      "outputs": [
        {
          "output_type": "error",
          "ename": "KeyError",
          "evalue": "ignored",
          "traceback": [
            "\u001b[0;31m---------------------------------------------------------------------------\u001b[0m",
            "\u001b[0;31mKeyError\u001b[0m                                  Traceback (most recent call last)",
            "\u001b[0;32m<ipython-input-43-4250d36d2a62>\u001b[0m in \u001b[0;36m<module>\u001b[0;34m\u001b[0m\n\u001b[0;32m----> 1\u001b[0;31m \u001b[0mcapitals\u001b[0m\u001b[0;34m[\u001b[0m\u001b[0;34m\"usa\"\u001b[0m\u001b[0;34m]\u001b[0m  \u001b[0;31m# Error: Key is case-sensitive\u001b[0m\u001b[0;34m\u001b[0m\u001b[0;34m\u001b[0m\u001b[0m\n\u001b[0m",
            "\u001b[0;31mKeyError\u001b[0m: 'usa'"
          ]
        }
      ]
    },
    {
      "cell_type": "code",
      "source": [
        "capitals[\"Japan\"] # Error: key must exist"
      ],
      "metadata": {
        "colab": {
          "base_uri": "https://localhost:8080/",
          "height": 164
        },
        "id": "EowYq06YMQse",
        "outputId": "a7009a21-6c48-449d-fbc8-4f5db58602ae"
      },
      "execution_count": 44,
      "outputs": [
        {
          "output_type": "error",
          "ename": "KeyError",
          "evalue": "ignored",
          "traceback": [
            "\u001b[0;31m---------------------------------------------------------------------------\u001b[0m",
            "\u001b[0;31mKeyError\u001b[0m                                  Traceback (most recent call last)",
            "\u001b[0;32m<ipython-input-44-6ed119d34b88>\u001b[0m in \u001b[0;36m<module>\u001b[0;34m\u001b[0m\n\u001b[0;32m----> 1\u001b[0;31m \u001b[0mcapitals\u001b[0m\u001b[0;34m[\u001b[0m\u001b[0;34m\"Japan\"\u001b[0m\u001b[0;34m]\u001b[0m \u001b[0;31m# Error: key must exist\u001b[0m\u001b[0;34m\u001b[0m\u001b[0;34m\u001b[0m\u001b[0m\n\u001b[0m",
            "\u001b[0;31mKeyError\u001b[0m: 'Japan'"
          ]
        }
      ]
    },
    {
      "cell_type": "markdown",
      "source": [
        "###Accessing without error with get"
      ],
      "metadata": {
        "id": "tI6SPkFFMd8g"
      }
    },
    {
      "cell_type": "code",
      "source": [
        "capitals.get(\"USA\")"
      ],
      "metadata": {
        "colab": {
          "base_uri": "https://localhost:8080/",
          "height": 37
        },
        "id": "si-26jwCMc0L",
        "outputId": "d3d9b2f5-ee2c-4230-ee0b-1577a8a9e179"
      },
      "execution_count": 45,
      "outputs": [
        {
          "output_type": "execute_result",
          "data": {
            "text/plain": [
              "'Washington DC'"
            ],
            "application/vnd.google.colaboratory.intrinsic+json": {
              "type": "string"
            }
          },
          "metadata": {},
          "execution_count": 45
        }
      ]
    },
    {
      "cell_type": "code",
      "source": [
        "capitals.get(\"usa\")"
      ],
      "metadata": {
        "id": "NW_iWVmLMkX7"
      },
      "execution_count": 46,
      "outputs": []
    },
    {
      "cell_type": "code",
      "source": [
        "capitals.get(\"Japan\")"
      ],
      "metadata": {
        "id": "9EbxXieiMqDk"
      },
      "execution_count": 47,
      "outputs": []
    },
    {
      "cell_type": "markdown",
      "source": [
        "###Update & Add in dictionary"
      ],
      "metadata": {
        "id": "U2XPXT1CMwGU"
      }
    },
    {
      "cell_type": "code",
      "source": [
        "capitals['India']='Delhi'"
      ],
      "metadata": {
        "id": "N2_KGxZ3NGb_"
      },
      "execution_count": 48,
      "outputs": []
    },
    {
      "cell_type": "code",
      "source": [
        "capitals['UK']='London'\n",
        "print(capitals)"
      ],
      "metadata": {
        "colab": {
          "base_uri": "https://localhost:8080/"
        },
        "id": "TTMP8sklMsos",
        "outputId": "2804f380-1ffa-41b1-96a0-898dd5c2a459"
      },
      "execution_count": 49,
      "outputs": [
        {
          "output_type": "stream",
          "name": "stdout",
          "text": [
            "{'USA': 'Washington DC', 'France': 'Paris', 'India': 'Delhi', 'UK': 'London'}\n"
          ]
        }
      ]
    },
    {
      "cell_type": "markdown",
      "source": [
        "###Del items from Dict"
      ],
      "metadata": {
        "id": "zGUN9MIgNbi8"
      }
    },
    {
      "cell_type": "code",
      "source": [
        "del capitals['UK']\n",
        "print(capitals)"
      ],
      "metadata": {
        "colab": {
          "base_uri": "https://localhost:8080/"
        },
        "id": "2A_Vt1ZgNfT4",
        "outputId": "26644546-758d-494b-bc02-80de96a755f4"
      },
      "execution_count": 50,
      "outputs": [
        {
          "output_type": "stream",
          "name": "stdout",
          "text": [
            "{'USA': 'Washington DC', 'France': 'Paris', 'India': 'Delhi'}\n"
          ]
        }
      ]
    },
    {
      "cell_type": "code",
      "source": [
        "del capitals\n",
        "print(capitals)"
      ],
      "metadata": {
        "colab": {
          "base_uri": "https://localhost:8080/",
          "height": 181
        },
        "id": "NcsubHxLNnEI",
        "outputId": "e402ff5a-23c3-478e-95fd-df628d073104"
      },
      "execution_count": 51,
      "outputs": [
        {
          "output_type": "error",
          "ename": "NameError",
          "evalue": "ignored",
          "traceback": [
            "\u001b[0;31m---------------------------------------------------------------------------\u001b[0m",
            "\u001b[0;31mNameError\u001b[0m                                 Traceback (most recent call last)",
            "\u001b[0;32m<ipython-input-51-567ce379222d>\u001b[0m in \u001b[0;36m<module>\u001b[0;34m\u001b[0m\n\u001b[1;32m      1\u001b[0m \u001b[0;32mdel\u001b[0m \u001b[0mcapitals\u001b[0m\u001b[0;34m\u001b[0m\u001b[0;34m\u001b[0m\u001b[0m\n\u001b[0;32m----> 2\u001b[0;31m \u001b[0mprint\u001b[0m\u001b[0;34m(\u001b[0m\u001b[0mcapitals\u001b[0m\u001b[0;34m)\u001b[0m\u001b[0;34m\u001b[0m\u001b[0;34m\u001b[0m\u001b[0m\n\u001b[0m",
            "\u001b[0;31mNameError\u001b[0m: name 'capitals' is not defined"
          ]
        }
      ]
    },
    {
      "cell_type": "markdown",
      "source": [
        "###clear()"
      ],
      "metadata": {
        "id": "Gv5v6ahrODyx"
      }
    },
    {
      "cell_type": "code",
      "source": [
        "capitals = {\"USA\":\"Washington DC\", \"France\":\"Paris\", \"India\":\"New Delhi\"}\n",
        "print(capitals)\n",
        "capitals.clear()\n",
        "print(capitals)"
      ],
      "metadata": {
        "colab": {
          "base_uri": "https://localhost:8080/"
        },
        "id": "5d5z0sruNroV",
        "outputId": "f3c877c8-276d-47ac-bc69-b591e7beef31"
      },
      "execution_count": 52,
      "outputs": [
        {
          "output_type": "stream",
          "name": "stdout",
          "text": [
            "{'USA': 'Washington DC', 'France': 'Paris', 'India': 'New Delhi'}\n",
            "{}\n"
          ]
        }
      ]
    },
    {
      "cell_type": "markdown",
      "source": [
        "###Deep and Shallow Copy"
      ],
      "metadata": {
        "id": "Qd5AP4s-Oed5"
      }
    },
    {
      "cell_type": "code",
      "source": [
        "romanNums = {'I':1, 'II':2, 'III':3, 'IV':4, 'V':5 }\n",
        "newRomanNums = romanNums.copy()\n",
        "print(\"Original dictionary: \",romanNums)\n",
        "print(\"Copied dictionary: \",newRomanNums)\n",
        "del newRomanNums['V'] # deleting 'V'\n",
        "print(\"Original dictionary: \",romanNums)\n",
        "print(\"Copied dictionary: \",newRomanNums)"
      ],
      "metadata": {
        "colab": {
          "base_uri": "https://localhost:8080/"
        },
        "id": "tQwsulQvOhfg",
        "outputId": "9422bfe2-b184-4c2b-e308-d82e09d9e2ce"
      },
      "execution_count": 53,
      "outputs": [
        {
          "output_type": "stream",
          "name": "stdout",
          "text": [
            "Original dictionary:  {'I': 1, 'II': 2, 'III': 3, 'IV': 4, 'V': 5}\n",
            "Copied dictionary:  {'I': 1, 'II': 2, 'III': 3, 'IV': 4, 'V': 5}\n",
            "Original dictionary:  {'I': 1, 'II': 2, 'III': 3, 'IV': 4, 'V': 5}\n",
            "Copied dictionary:  {'I': 1, 'II': 2, 'III': 3, 'IV': 4}\n"
          ]
        }
      ]
    },
    {
      "cell_type": "code",
      "source": [
        "romanNums = {'I':1, 'II':2, 'III':3, 'IV':4, 'V':5 }\n",
        "newRomanNums = romanNums\n",
        "print(\"Original dictionary: \",romanNums)\n",
        "print(\"Copied dictionary: \",newRomanNums)\n",
        "del newRomanNums['V'] # deleting 'V'\n",
        "print(\"Original dictionary: \",romanNums)\n",
        "print(\"Copied dictionary: \",newRomanNums)"
      ],
      "metadata": {
        "colab": {
          "base_uri": "https://localhost:8080/"
        },
        "id": "PLnL9P75Ot-L",
        "outputId": "6fc78323-17e9-4fd1-e239-6ecf9d4e42fa"
      },
      "execution_count": 54,
      "outputs": [
        {
          "output_type": "stream",
          "name": "stdout",
          "text": [
            "Original dictionary:  {'I': 1, 'II': 2, 'III': 3, 'IV': 4, 'V': 5}\n",
            "Copied dictionary:  {'I': 1, 'II': 2, 'III': 3, 'IV': 4, 'V': 5}\n",
            "Original dictionary:  {'I': 1, 'II': 2, 'III': 3, 'IV': 4}\n",
            "Copied dictionary:  {'I': 1, 'II': 2, 'III': 3, 'IV': 4}\n"
          ]
        }
      ]
    },
    {
      "cell_type": "markdown",
      "source": [
        "###fromkeys()"
      ],
      "metadata": {
        "id": "Rc-GjTeGPBw5"
      }
    },
    {
      "cell_type": "code",
      "source": [
        "nums = (1, 2, 3, 4, 5) # tuple to dict\n",
        "val = 'Numbers'\n",
        "numDict = dict.fromkeys(nums, val)\n",
        "print(numDict)"
      ],
      "metadata": {
        "colab": {
          "base_uri": "https://localhost:8080/"
        },
        "id": "rsCbOGiQPEel",
        "outputId": "5b3393ff-85c3-4173-caaf-9b1f7abf982d"
      },
      "execution_count": 55,
      "outputs": [
        {
          "output_type": "stream",
          "name": "stdout",
          "text": [
            "{1: 'Numbers', 2: 'Numbers', 3: 'Numbers', 4: 'Numbers', 5: 'Numbers'}\n"
          ]
        }
      ]
    },
    {
      "cell_type": "markdown",
      "source": [
        "###pop()"
      ],
      "metadata": {
        "id": "nLlaqQOaPH0e"
      }
    },
    {
      "cell_type": "code",
      "source": [
        "romanNums = {'I':1, 'II':2, 'III':3, 'IV':4, 'V':5 }\n",
        "deletedValue = romanNums.pop('V')\n",
        "print(\"The popped element is: \", deletedValue)\n",
        "print(\"Updated dictionary: \",romanNums)"
      ],
      "metadata": {
        "colab": {
          "base_uri": "https://localhost:8080/"
        },
        "id": "_nM4RD6kPoEC",
        "outputId": "9dc10639-2aca-4069-ae1c-9508d350b719"
      },
      "execution_count": 59,
      "outputs": [
        {
          "output_type": "stream",
          "name": "stdout",
          "text": [
            "The popped element is:  5\n",
            "Updated dictionary:  {'I': 1, 'II': 2, 'III': 3, 'IV': 4}\n"
          ]
        }
      ]
    },
    {
      "cell_type": "code",
      "source": [
        "romanNums = {'I':1, 'II':2, 'III':3 }\n",
        "print(romanNums.popitem())\n",
        "print(romanNums.popitem())\n",
        "print(romanNums.popitem())\n",
        "print(romanNums)"
      ],
      "metadata": {
        "colab": {
          "base_uri": "https://localhost:8080/"
        },
        "id": "Lb15KgrVPpm-",
        "outputId": "04f768af-2fd1-41a9-c12c-fdb5c7af6928"
      },
      "execution_count": 60,
      "outputs": [
        {
          "output_type": "stream",
          "name": "stdout",
          "text": [
            "('III', 3)\n",
            "('II', 2)\n",
            "('I', 1)\n",
            "{}\n"
          ]
        }
      ]
    },
    {
      "cell_type": "markdown",
      "source": [
        "###setdefault()"
      ],
      "metadata": {
        "id": "RDu0e9aYQBvG"
      }
    },
    {
      "cell_type": "code",
      "source": [
        "romanNums = {'I':1, 'II':2, 'III':3}\n",
        "value = romanNums.setdefault('IV')\n",
        "\n",
        "print(\"The return value is: \",value)\n",
        "print(\"Updated dictionary: \",romanNums)"
      ],
      "metadata": {
        "colab": {
          "base_uri": "https://localhost:8080/"
        },
        "id": "xIktED3oQEEK",
        "outputId": "923cfe65-fbdb-4b8f-90a1-e5389784eb04"
      },
      "execution_count": 61,
      "outputs": [
        {
          "output_type": "stream",
          "name": "stdout",
          "text": [
            "The return value is:  None\n",
            "Updated dictionary:  {'I': 1, 'II': 2, 'III': 3, 'IV': None}\n"
          ]
        }
      ]
    },
    {
      "cell_type": "markdown",
      "source": [
        "###update()"
      ],
      "metadata": {
        "id": "LwnroLeAQMcp"
      }
    },
    {
      "cell_type": "code",
      "source": [
        "romanNums.update(IV=4)\n",
        "print(\"Updated Dictionary: \",romanNums)"
      ],
      "metadata": {
        "colab": {
          "base_uri": "https://localhost:8080/"
        },
        "id": "c3Nt475mQLto",
        "outputId": "3e376ee9-6ac9-4f26-f87b-be0b3e938d16"
      },
      "execution_count": 64,
      "outputs": [
        {
          "output_type": "stream",
          "name": "stdout",
          "text": [
            "Updated Dictionary:  {'I': 1, 'II': 2, 'III': 3, 'IV': 4}\n"
          ]
        }
      ]
    },
    {
      "cell_type": "markdown",
      "source": [
        "###values()"
      ],
      "metadata": {
        "id": "0w4tS40vQeOO"
      }
    },
    {
      "cell_type": "code",
      "source": [
        "romanNums.values()"
      ],
      "metadata": {
        "colab": {
          "base_uri": "https://localhost:8080/"
        },
        "id": "goiR5DmZQkNM",
        "outputId": "b5608704-51cf-4dfe-e22b-fe62bbc81f78"
      },
      "execution_count": 65,
      "outputs": [
        {
          "output_type": "execute_result",
          "data": {
            "text/plain": [
              "dict_values([1, 2, 3, 4])"
            ]
          },
          "metadata": {},
          "execution_count": 65
        }
      ]
    }
  ]
}