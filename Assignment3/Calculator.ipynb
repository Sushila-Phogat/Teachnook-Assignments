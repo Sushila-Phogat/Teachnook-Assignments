{
  "nbformat": 4,
  "nbformat_minor": 0,
  "metadata": {
    "colab": {
      "provenance": [],
      "authorship_tag": "ABX9TyNub9dTgxx8PQeaY8fINmoN",
      "include_colab_link": true
    },
    "kernelspec": {
      "name": "python3",
      "display_name": "Python 3"
    },
    "language_info": {
      "name": "python"
    }
  },
  "cells": [
    {
      "cell_type": "markdown",
      "metadata": {
        "id": "view-in-github",
        "colab_type": "text"
      },
      "source": [
        "<a href=\"https://colab.research.google.com/github/Sushila-Phogat/Teachnook-Assignments/blob/main/Assignment3/Calculator.ipynb\" target=\"_parent\"><img src=\"https://colab.research.google.com/assets/colab-badge.svg\" alt=\"Open In Colab\"/></a>"
      ]
    },
    {
      "cell_type": "markdown",
      "source": [
        "#Calculator"
      ],
      "metadata": {
        "id": "L8xPFEA6SS6a"
      }
    },
    {
      "cell_type": "code",
      "execution_count": 33,
      "metadata": {
        "colab": {
          "base_uri": "https://localhost:8080/"
        },
        "id": "QT24Z5K_SSGG",
        "outputId": "1de02c21-64a7-48db-8dc9-bf07889adfd3"
      },
      "outputs": [
        {
          "output_type": "stream",
          "name": "stdout",
          "text": [
            "Please select the operation.\n",
            "\n",
            "1. Add\n",
            "2. Subtract\n",
            "3. Multiply\n",
            "4. Divide\n",
            "Please enter choice (1/ 2/ 3/ 4): 1\n",
            "Please enter the first number: 4\n",
            "Please enter the second number: 6\n",
            "Result is: 10\n"
          ]
        }
      ],
      "source": [
        "def func(P, Q, choice):    \n",
        "   if choice==1:\n",
        "     return P + Q  \n",
        "   elif choice==2:\n",
        "     return P - Q  \n",
        "   elif choice==3:\n",
        "     return P * Q \n",
        "   elif choice==4:\n",
        "     return P / Q\n",
        "   else:\n",
        "     return \"This is an invalid input\"    \n",
        "\n",
        "opr=\"Please select the operation.\\n\"\n",
        "funct=\"1. Add\\n2. Subtract\\n3. Multiply\\n4. Divide\"  \n",
        "f = open(\"Calculator_file.txt\", \"a\")\n",
        "\n",
        "print(opr)\n",
        "f.write(opr)\n",
        "\n",
        "print(funct)\n",
        "f.write(funct)\n",
        "    \n",
        "choice = int(input(\"Please enter choice (1/ 2/ 3/ 4): \"))  \n",
        "    \n",
        "num_1 = int(input (\"Please enter the first number: \"))    \n",
        "num_2 = int(input (\"Please enter the second number: \"))   \n",
        "f.write(f\"\\nselected the operation is:{str(choice)}\")\n",
        "f.write(f\"\\nfirst number is:{str(num_1)}\")\n",
        "f.write(f\"\\nsecond number is:{str(num_2)}\")\n",
        "result=func(num_1, num_2, choice) \n",
        "f.write(f\"\\n Result is:{str(result)}\")\n",
        "print(\"Result is:\",result)"
      ]
    }
  ]
}